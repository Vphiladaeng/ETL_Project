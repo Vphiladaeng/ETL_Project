{
 "cells": [
  {
   "cell_type": "code",
   "execution_count": null,
   "metadata": {},
   "outputs": [],
   "source": [
    "import pandas as pd\n",
    "from sqlalchemy import create_engine\n",
    "import matplotlib.pyplot as plt\n",
    "import glob"
   ]
  },
  {
   "cell_type": "code",
   "execution_count": null,
   "metadata": {},
   "outputs": [],
   "source": [
    "# Use the glob module to list out the files\n",
    "glob.glob(\"Resources/*.xls\")"
   ]
  },
  {
   "cell_type": "code",
   "execution_count": null,
   "metadata": {},
   "outputs": [],
   "source": [
    "# The CSV file path\n",
    "sales_file = \"Resources/sales.xls\"\n",
    "\n",
    "# Read the sales data into pandas and remove the header\n",
    "sales_df = pd.read_excel(sales_file, header=None)\n",
    "sales_df.head(5)"
   ]
  },
  {
   "cell_type": "code",
   "execution_count": null,
   "metadata": {},
   "outputs": [],
   "source": [
    "# List of all of columns\n",
    "sales_df.columns"
   ]
  },
  {
   "cell_type": "code",
   "execution_count": null,
   "metadata": {},
   "outputs": [],
   "source": [
    "# Drop the first three rows containing irrelevant information for this analysis by using the index \n",
    "sales_row_dropped = sales_df.drop(sales_df.index[[0,1,2]])\n",
    "sales_row_dropped = sales_row_dropped.reset_index()\n",
    "sales_row_dropped = sales_row_dropped.drop(['index'], axis=1)\n",
    "sales_row_dropped.head(5)"
   ]
  },
  {
   "cell_type": "code",
   "execution_count": null,
   "metadata": {},
   "outputs": [],
   "source": [
    "new_header = sales_row_dropped.iloc[0] #grab the first row for the header\n",
    "sales_new_df = sales_row_dropped[1:] #take the data less the header row\n",
    "sales_new_df.columns = new_header #set the header row as the df header\n",
    "sales_new_df.head(5)"
   ]
  },
  {
   "cell_type": "code",
   "execution_count": null,
   "metadata": {},
   "outputs": [],
   "source": [
    "# Stack the dataframe in order to have year in columns and set index to NAICS Code and Kind of Business\n",
    "sales_stack_df = sales_new_df.set_index(['NAICS Code','Kind of business']).stack()"
   ]
  },
  {
   "cell_type": "code",
   "execution_count": null,
   "metadata": {},
   "outputs": [],
   "source": [
    "# Create a new dataframe with series\n",
    "sales_stack_new_df = pd.DataFrame(sales_stack_df)"
   ]
  },
  {
   "cell_type": "code",
   "execution_count": null,
   "metadata": {},
   "outputs": [],
   "source": [
    "# Rename index columns\n",
    "sales_stack_new_df.index.names = ['NAICS Code', 'Kind of Business', 'Year']\n",
    "   \n",
    "# Reset the index\n",
    "df_new_sales = sales_stack_new_df.reset_index()\n",
    "df_new_sales.rename(columns={0:'Retail Sales Amount'}, inplace=True)\n",
    "\n",
    "# Drop NAN\n",
    "df_new_sales = df_new_sales.dropna()"
   ]
  },
  {
   "cell_type": "code",
   "execution_count": null,
   "metadata": {},
   "outputs": [],
   "source": [
    "# Format the year to datetime and remove the decimal\n",
    "df_new_sales['Year'] = pd.to_datetime(df_new_sales['Year'], format='%Y').dt.strftime('%Y')"
   ]
  },
  {
   "cell_type": "code",
   "execution_count": null,
   "metadata": {},
   "outputs": [],
   "source": [
    "# Format Kind of Business and Retail Sales Amount columns\n",
    "df_new_sales['Retail Sales Amount'] = df_new_sales['Retail Sales Amount'].astype(int)\n",
    "#df_new_sales['Kind of Business'] = df_new_sales['Kind of Business'].astype(str)"
   ]
  },
  {
   "cell_type": "code",
   "execution_count": null,
   "metadata": {},
   "outputs": [],
   "source": [
    "# Create new data with select columns\n",
    "sales_transformed = df_new_sales[['Year', 'Kind of Business', 'Retail Sales Amount']].copy()\n",
    "sales_transformed.head(5)"
   ]
  },
  {
   "cell_type": "code",
   "execution_count": null,
   "metadata": {},
   "outputs": [],
   "source": [
    "sales_transformed.dtypes"
   ]
  },
  {
   "cell_type": "code",
   "execution_count": null,
   "metadata": {},
   "outputs": [],
   "source": [
    "# Reset index after dropping NAN and reformatting Year and Retail Sales Amount data type\n",
    "sales_transformed = sales_transformed.reset_index(drop=True)"
   ]
  },
  {
   "cell_type": "code",
   "execution_count": null,
   "metadata": {},
   "outputs": [],
   "source": [
    "# Pivot the table to set Year as index\n",
    "sales_transformed = pd.pivot_table(sales_transformed, index=['Year'], values=['Retail Sales Amount'])\n",
    "sales_transformed['Retail Sales Amount'] = sales_transformed['Retail Sales Amount'].astype(int)\n",
    "sales_transformed.head(5)"
   ]
  },
  {
   "cell_type": "code",
   "execution_count": null,
   "metadata": {},
   "outputs": [],
   "source": [
    "# Function to loop through the resources folder and create dataframe for other excel files \n",
    "\n",
    "all_df = []\n",
    "for f in glob.glob(\"Resources/*.xls\"):\n",
    "        df = pd.read_excel(f, header=None)\n",
    "        df_row_dropped = df.drop(df.index[[0,1,2]])\n",
    "        df_row_dropped = df_row_dropped.reset_index()\n",
    "        df_row_dropped = df_row_dropped.drop(['index'], axis=1)\n",
    "        new_header = df_row_dropped.iloc[0]\n",
    "        df_new = df_row_dropped[1:]\n",
    "        df_new.columns = new_header\n",
    "        df_new = df_new.set_index(['NAICS Code','Kind of business']).stack()\n",
    "        df_new = pd.DataFrame(df_new)\n",
    "        df_new.index.names = ['NAICS Code', 'Kind of Business', 'Year']\n",
    "        df_final = df_new.reset_index()\n",
    "        df_final.rename(columns={0: f}, inplace=True)\n",
    "        df_final = df_final.dropna()\n",
    "        df_final['Year'] = pd.to_datetime(df_final['Year'], format='%Y').dt.strftime('%Y')\n",
    "        df_final[f] = df_final[f].astype(int)\n",
    "        df_transformed = df_final[['Year', 'Kind of Business', f]].copy()\n",
    "        df_transformed = df_transformed.reset_index(drop=True)\n",
    "        df_transformed = pd.pivot_table(df_transformed, index=['Year'], values=[f])\n",
    "        df_transformed[f] = df_transformed[f].astype(int)\n",
    "        \n",
    "        #df_final.reset_index(drop=True)\n",
    "        #df_final = pd.pivot_table(df_final, index=['Year'], values=[f])\n",
    "        all_df.append(df_transformed)\n",
    "        print(f)"
   ]
  },
  {
   "cell_type": "code",
   "execution_count": null,
   "metadata": {},
   "outputs": [],
   "source": [
    "# Rename the dataframe by accessing to the list by index\n",
    "gm_df = all_df[0]\n",
    "inventories_df = all_df[1]\n",
    "purchases_df = all_df[2]"
   ]
  },
  {
   "cell_type": "code",
   "execution_count": null,
   "metadata": {},
   "outputs": [],
   "source": [
    "\n",
    "gm_df.head(2)"
   ]
  },
  {
   "cell_type": "code",
   "execution_count": null,
   "metadata": {},
   "outputs": [],
   "source": [
    "# Rename columns and format data types\n",
    "gm_df.rename(columns={'Resources\\gross_margin.xls':'Gross_Margin_Amount'}, inplace=True)\n",
    "inventories_df.rename(columns={'Resources\\inventories.xls':'Inventories_Amount'}, inplace=True)\n",
    "purchases_df.rename(columns={'Resources\\purchases.xls':'Purchases_Amount'}, inplace=True)"
   ]
  },
  {
   "cell_type": "code",
   "execution_count": null,
   "metadata": {},
   "outputs": [],
   "source": [
    "# Create database connection\n",
    "connection_string = \"\"\n",
    "engine = create_engine(f'mysql://{connection_string}')"
   ]
  },
  {
   "cell_type": "code",
   "execution_count": null,
   "metadata": {},
   "outputs": [],
   "source": [
    "# Confirm tables\n",
    "engine.table_names()"
   ]
  },
  {
   "cell_type": "code",
   "execution_count": null,
   "metadata": {},
   "outputs": [],
   "source": [
    "# Load DataFrames into database\n",
    "sales_transformed.head()"
   ]
  },
  {
   "cell_type": "code",
   "execution_count": null,
   "metadata": {},
   "outputs": [],
   "source": [
    "sales_transformed.to_sql(name='sales', con=engine, if_exists='append', index=True)"
   ]
  },
  {
   "cell_type": "code",
   "execution_count": null,
   "metadata": {},
   "outputs": [],
   "source": [
    "purchases_df.to_sql(name='purchases', con=engine, if_exists='append', index=True)"
   ]
  },
  {
   "cell_type": "code",
   "execution_count": null,
   "metadata": {},
   "outputs": [],
   "source": [
    "inventories_df.to_sql(name='inventories', con=engine, if_exists='append', index=True)"
   ]
  },
  {
   "cell_type": "code",
   "execution_count": null,
   "metadata": {},
   "outputs": [],
   "source": [
    "gm_df.to_sql(name='grossmargin', con=engine, if_exists='append', index=True)"
   ]
  },
  {
   "cell_type": "code",
   "execution_count": null,
   "metadata": {},
   "outputs": [],
   "source": [
    "# Confirm data has been added by quering the sales\n",
    "pd.read_sql_query('select * from sales', con=engine).head()"
   ]
  }
 ],
 "metadata": {
  "kernelspec": {
   "display_name": "Python 3",
   "language": "python",
   "name": "python3"
  },
  "language_info": {
   "codemirror_mode": {
    "name": "ipython",
    "version": 3
   },
   "file_extension": ".py",
   "mimetype": "text/x-python",
   "name": "python",
   "nbconvert_exporter": "python",
   "pygments_lexer": "ipython3",
   "version": "3.7.4"
  }
 },
 "nbformat": 4,
 "nbformat_minor": 2
}
